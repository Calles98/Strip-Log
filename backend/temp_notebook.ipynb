{
  "cells": [
    {
      "cell_type": "code",
      "execution_count": 1,
      "metadata": {
        "id": "_Uwh8m1mt1-P"
      },
      "outputs": [],
      "source": [
        "import pandas as pd\n",
        "import matplotlib.pyplot as plt\n",
        "import seaborn as sns\n",
        "import numpy as np\n",
        "import plotly.graph_objects as go\n",
        "import plotly.express as px  # For accessing Plotly color scales"
      ]
    },
    {
      "cell_type": "code",
      "execution_count": null,
      "metadata": {
        "colab": {
          "base_uri": "https://localhost:8080/",
          "height": 803
        },
        "id": "qDGV-wiPuTWn",
        "outputId": "96c95d37-8537-408f-aa8a-bf86f14984f5"
      },
      "outputs": [],
      "source": [
        "file_paths = ['uploads/Evelyn_Alteration_Type_20241114.csv']  # This should be replaced with a list of file paths\n",
        "\n",
        "# Get the first file path from the list\n",
        "if isinstance(file_paths, list) and file_paths:\n",
        "    alt_file_path = file_paths[0]  # Access the first file path\n",
        "    print(f\"Processing first file: {alt_file_path}\")\n",
        "alt_data = pd.read_csv(alt_file_path)\n"
      ]
    },
    {
      "cell_type": "markdown",
      "metadata": {},
      "source": [
        "<h1 align='center'>Alterations</h1>"
      ]
    },
    {
      "cell_type": "code",
      "execution_count": null,
      "metadata": {
        "id": "iF1DkVsPxgIw"
      },
      "outputs": [],
      "source": [
        "\n",
        "\n",
        "def plot_alteration_types(alt_types):\n",
        "\n",
        "  for alt_type in alt_types:\n",
        "\n",
        "\n",
        "    # Sample Data\n",
        "    geol_from = alt_data[\"GeolFrom\"]\n",
        "    geol_to = alt_data[\"GeolTo\"]\n",
        "    alt_spec = alt_data[alt_type]\n",
        "\n",
        "    # Calculate the widths of each bar segment (GeolTo - GeolFrom)\n",
        "    bar_lengths = [end - start for start, end in zip(geol_from, geol_to)]\n",
        "\n",
        "    # Choose a color scale\n",
        "    color_scale = px.colors.qualitative.Set1  # A qualitative color scale with 9 distinct colors\n",
        "\n",
        "    # Map each lithology type to a color from the chosen color scale\n",
        "    color_mapping = {alt: color_scale[i % len(color_scale)] for i, alt in enumerate(set(alt_spec))}\n",
        "\n",
        "    # Create a figure for the plot\n",
        "    fig = go.Figure()\n",
        "\n",
        "    # Track lithology types that have already appeared in the legend\n",
        "    legend_seen = {}\n",
        "\n",
        "    # Add each lithology type as a separate segment in the same bar\n",
        "    start_point = 0\n",
        "    for alt, length in zip(alt_spec, bar_lengths):\n",
        "        show_legend = alt not in legend_seen  # Show legend only for the first occurrence of each lithology\n",
        "        legend_seen[alt] = True  # Mark this lithology as seen\n",
        "\n",
        "        fig.add_trace(go.Bar(\n",
        "            y=[0],  # All bars are at the same y=0 level to stack on the same line\n",
        "            x=[length],  # Length of the bar segment\n",
        "            orientation='h',  # Horizontal bars\n",
        "            name=alt,  # Name for legend\n",
        "            offsetgroup=0,  # Stack the bars\n",
        "            base=start_point,  # Set the base of the bar where the last ended\n",
        "            marker_color=color_mapping[alt],  # Assign color based on lithology type\n",
        "            marker_line_width=0,  # Remove the border line\n",
        "            legendgroup=alt,  # Group all traces with the same lithology into one legend entry\n",
        "            showlegend=show_legend  # Show legend only for the first trace of each lithology type\n",
        "        ))\n",
        "        start_point += length  # Update the start_point for the next segment\n",
        "\n",
        "    # Update layout for stacked bar and styling\n",
        "    fig.update_layout(\n",
        "        xaxis_title=\"Depth (m)\",\n",
        "        yaxis=dict(showticklabels=False),  # Hide y-axis ticks and labels\n",
        "        barmode='stack',  # Stack bars on top of each other\n",
        "        showlegend=True,\n",
        "        height=300,  # Set plot height\n",
        "        legend_title=\"Alteration Type\"\n",
        "    )\n",
        "\n",
        "    # Show the plot\n",
        "    fig.show()\n",
        "\n",
        "\n",
        "\n",
        "\n"
      ]
    },
    {
      "cell_type": "code",
      "execution_count": null,
      "metadata": {},
      "outputs": [],
      "source": [
        "alt_types = ['AlterationType1', 'AlterationType2', 'AlterationType3']\n",
        "plot_alteration_types(alt_types)"
      ]
    },
    {
      "cell_type": "markdown",
      "metadata": {},
      "source": [
        "<h1 align='center'>Lithology</h1>"
      ]
    },
    {
      "cell_type": "code",
      "execution_count": null,
      "metadata": {},
      "outputs": [],
      "source": [
        "if isinstance(file_paths, list) and file_paths:\n",
        "    lit_file_path = file_paths[1]  # Access the first file path\n",
        "    print(f\"Processing first file: {alt_file_path}\")\n",
        "\n",
        "lit_data = pd.read_csv(lit_file_path)"
      ]
    },
    {
      "cell_type": "code",
      "execution_count": null,
      "metadata": {},
      "outputs": [],
      "source": [
        "def plot_lithology_types(lit_types):\n",
        "\n",
        "  for lit_type in lit_types:\n",
        "\n",
        "\n",
        "    # Sample Data\n",
        "    geol_from = alt_data[\"GeolFrom\"]\n",
        "    geol_to = alt_data[\"GeolTo\"]\n",
        "    lith_spec1 = lit_data[lit_type]\n",
        "\n",
        "    # Calculate the widths of each bar segment (GeolTo - GeolFrom)\n",
        "    bar_lengths = [end - start for start, end in zip(geol_from, geol_to)]\n",
        "\n",
        "    # Choose a color scale\n",
        "    color_scale = px.colors.qualitative.Set2  # A qualitative color scale with 9 distinct colors\n",
        "\n",
        "    # Map each lithology type to a color from the chosen color scale\n",
        "    color_mapping = {lith: color_scale[i % len(color_scale)] for i, lith in enumerate(set(lith_spec1))}\n",
        "\n",
        "    # Create a figure for the plot\n",
        "    fig = go.Figure()\n",
        "\n",
        "    # Track lithology types that have already appeared in the legend\n",
        "    legend_seen = {}\n",
        "\n",
        "    # Add each lithology type as a separate segment in the same bar\n",
        "    start_point = 0\n",
        "    for lith, length in zip(lith_spec1, bar_lengths):\n",
        "        show_legend = lith not in legend_seen  # Show legend only for the first occurrence of each lithology\n",
        "        legend_seen[lith] = True  # Mark this lithology as seen\n",
        "\n",
        "        fig.add_trace(go.Bar(\n",
        "            y=[0],  # All bars are at the same y=0 level to stack on the same line\n",
        "            x=[length],  # Length of the bar segment\n",
        "            orientation='h',  # Horizontal bars\n",
        "            name=lith,  # Name for legend\n",
        "            offsetgroup=0,  # Stack the bars\n",
        "            base=start_point,  # Set the base of the bar where the last ended\n",
        "            marker_color=color_mapping[lith],  # Assign color based on lithology type\n",
        "            marker_line_width=0,  # Remove the border line\n",
        "            legendgroup=lith,  # Group all traces with the same lithology into one legend entry\n",
        "            showlegend=show_legend  # Show legend only for the first trace of each lithology type\n",
        "        ))\n",
        "        start_point += length  # Update the start_point for the next segment\n",
        "\n",
        "    # Update layout for stacked bar and styling\n",
        "    fig.update_layout(\n",
        "        xaxis_title=\"Depth (m)\",\n",
        "        yaxis=dict(showticklabels=False),  # Hide y-axis ticks and labels\n",
        "        barmode='stack',  # Stack bars on top of each other\n",
        "        showlegend=True,\n",
        "        height=300,  # Set plot height\n",
        "        legend_title=\"Lithology Type\",\n",
        "\n",
        "    )\n",
        "\n",
        "    # Show the plot\n",
        "    fig.show()"
      ]
    },
    {
      "cell_type": "code",
      "execution_count": null,
      "metadata": {},
      "outputs": [],
      "source": [
        "lit_types = ['LithSpec1', 'LithSpec2', 'LithSpec3']\n",
        "plot_lithology_types(lit_types)"
      ]
    },
    {
      "cell_type": "markdown",
      "metadata": {},
      "source": [
        "<h1 align='center'>Recovery</h1>"
      ]
    },
    {
      "cell_type": "code",
      "execution_count": null,
      "metadata": {},
      "outputs": [],
      "source": [
        "if isinstance(file_paths, list) and file_paths:\n",
        "    rec_file_path = file_paths[2]  # Access the first file path\n",
        "    print(f\"Processing first file: {rec_file_path}\")\n",
        "\n",
        "rec_data = pd.read_csv(rec_file_path)"
      ]
    },
    {
      "cell_type": "code",
      "execution_count": null,
      "metadata": {},
      "outputs": [],
      "source": [
        "recovery_data = rec_data[\"Recovery\"]\n",
        "total_depth = list(set(rec_data['GeolFrom']).union(set(rec_data['GeolTo'])))\n",
        "\n",
        "\n",
        "fig = go.Figure()\n",
        "\n",
        "fig.add_trace(go.Bar(\n",
        "      y=recovery_data,\n",
        "      x=total_depth,\n",
        "      #orientation='v',\n",
        "      name='Recovery',\n",
        "      marker=dict(color='red')\n",
        "\n",
        "\n",
        "))\n",
        "\n",
        "\n",
        "fig.update_layout(\n",
        "    xaxis_title=\"Depth (m)\",\n",
        "    yaxis_title=\"Recovery (kg)\",\n",
        "    yaxis=dict(showticklabels=True),\n",
        "    showlegend=True,\n",
        "    height=400,  # Set plot height\n",
        "    legend_title=\"Recovery (kg)\"\n",
        ")\n",
        "\n",
        "fig.show()"
      ]
    },
    {
      "cell_type": "markdown",
      "metadata": {},
      "source": [
        "<h1 align='center'>RQD</h1>"
      ]
    },
    {
      "cell_type": "code",
      "execution_count": null,
      "metadata": {},
      "outputs": [],
      "source": [
        "recovery_data = rec_data[\"RQD\"]\n",
        "total_depth = list(set(rec_data['GeolFrom']).union(set(rec_data['GeolTo'])))\n",
        "\n",
        "\n",
        "fig = go.Figure()\n",
        "\n",
        "fig.add_trace(go.Bar(\n",
        "      y=recovery_data,\n",
        "      x=total_depth,\n",
        "      #orientation='v',\n",
        "      name='RQD',\n",
        "      marker=dict(color='blue')\n",
        "\n",
        "\n",
        "))\n",
        "\n",
        "\n",
        "fig.update_layout(\n",
        "    xaxis_title=\"Depth (m)\",\n",
        "    yaxis_title=\"RQD\",\n",
        "    yaxis=dict(showticklabels=True),\n",
        "    showlegend=True,\n",
        "    height=400,  # Set plot height\n",
        "    legend_title=\"RQD\"\n",
        ")\n",
        "\n",
        "fig.show()"
      ]
    },
    {
      "cell_type": "markdown",
      "metadata": {},
      "source": [
        "<h1 align='center'>Specific Gravity</h1>"
      ]
    },
    {
      "cell_type": "code",
      "execution_count": null,
      "metadata": {},
      "outputs": [],
      "source": [
        "if isinstance(file_paths, list) and file_paths:\n",
        "    gravity_file_path = file_paths[3]  # Access the first file path\n",
        "    print(f\"Processing first file: {gravity_file_path}\")\n",
        "\n",
        "gravity_data = pd.read_csv(gravity_file_path)"
      ]
    },
    {
      "cell_type": "code",
      "execution_count": null,
      "metadata": {},
      "outputs": [],
      "source": [
        "fig = go.Figure()\n",
        "fig.add_trace(go.Scatter(x=gravity_data['Depth'], y=gravity_data['SpecificGravity_1'], mode='lines', line=dict(color='blue'), fill='tozeroy', fillcolor='rgba(0, 0, 255, 0.3)', name='Specific Gravity'))\n",
        "\n",
        "fig.update_layout(\n",
        "    xaxis_title=\"Depth (m)\",\n",
        "    yaxis_title=\"Specific Gravity\",\n",
        "    showlegend=True,\n",
        "    height=400,  # Set plot height\n",
        "    legend_title=\"Specific Gravity\"\n",
        ")\n",
        "\n",
        "fig.show()"
      ]
    },
    {
      "cell_type": "markdown",
      "metadata": {},
      "source": [
        "<h1 align='center'>PPM</h1>"
      ]
    },
    {
      "cell_type": "code",
      "execution_count": null,
      "metadata": {},
      "outputs": [],
      "source": [
        "if isinstance(file_paths, list) and file_paths:\n",
        "    ppm_file_path = file_paths[4]  # Access the first file path\n",
        "    print(f\"Processing first file: {ppm_file_path}\")\n",
        "\n",
        "ppm_data = pd.read_csv(ppm_file_path)"
      ]
    },
    {
      "cell_type": "code",
      "execution_count": null,
      "metadata": {},
      "outputs": [],
      "source": [
        "def plot_element_ppm(elements):\n",
        "  for element in elements:\n",
        "\n",
        "    total_depth = list(set(ppm_data['Geol_From']).union(set(ppm_data['Geol_To'])))\n",
        "\n",
        "    fig = go.Figure()\n",
        "\n",
        "    fig.add_trace(go.Bar(x=total_depth, y=ppm_data[element], name=f\"{element[:2]} PPM\", marker=dict(color='blue')))\n",
        "\n",
        "    fig.update_layout(\n",
        "        xaxis_title=\"Depth (m)\",\n",
        "        yaxis_title=f\"{element[:2]} PPM\",\n",
        "        showlegend=True,\n",
        "        height=400,  # Set plot height\n",
        "        legend_title=f\"{element[:2]} PPM\"\n",
        "    )\n",
        "\n",
        "    fig.show()"
      ]
    },
    {
      "cell_type": "code",
      "execution_count": null,
      "metadata": {},
      "outputs": [],
      "source": [
        "elements = [\"Ag_ppm_Ag-AA61\", \"Au_ppm_Au-AA24\"]\n",
        "plot_element_ppm(elements)"
      ]
    },
    {
      "cell_type": "markdown",
      "metadata": {},
      "source": [
        "<h1 align='center'>Mineralization</h1>"
      ]
    },
    {
      "cell_type": "code",
      "execution_count": null,
      "metadata": {},
      "outputs": [],
      "source": [
        "if isinstance(file_paths, list) and file_paths:\n",
        "    min_file_path = file_paths[5]  # Access the first file path\n",
        "    print(f\"Processing first file: {min_file_path}\")\n",
        "\n",
        "min_data = pd.read_csv(min_file_path)"
      ]
    },
    {
      "cell_type": "code",
      "execution_count": null,
      "metadata": {},
      "outputs": [],
      "source": [
        "def plot_mineral_type(min_types):\n",
        "\n",
        "  for min_type in min_types:\n",
        "\n",
        "\n",
        "    # Sample Data\n",
        "    geol_from = min_data[\"GeolFrom\"]\n",
        "    geol_to = min_data[\"GeolTo\"]\n",
        "    min_spec = min_data[min_type]\n",
        "\n",
        "    # Calculate the widths of each bar segment (GeolTo - GeolFrom)\n",
        "    bar_lengths = [end - start for start, end in zip(geol_from, geol_to)]\n",
        "\n",
        "    # Choose a color scale\n",
        "    color_scale = px.colors.qualitative.Set1  # A qualitative color scale with 9 distinct colors\n",
        "\n",
        "    # Map each lithology type to a color from the chosen color scale\n",
        "    color_mapping = {alt: color_scale[i % len(color_scale)] for i, alt in enumerate(set(min_spec))}\n",
        "\n",
        "    # Create a figure for the plot\n",
        "    fig = go.Figure()\n",
        "\n",
        "    # Track lithology types that have already appeared in the legend\n",
        "    legend_seen = {}\n",
        "\n",
        "    # Add each lithology type as a separate segment in the same bar\n",
        "    start_point = 0\n",
        "    for alt, length in zip(min_spec, bar_lengths):\n",
        "        show_legend = alt not in legend_seen  # Show legend only for the first occurrence of each lithology\n",
        "        legend_seen[alt] = True  # Mark this lithology as seen\n",
        "\n",
        "        fig.add_trace(go.Bar(\n",
        "            y=[0],  # All bars are at the same y=0 level to stack on the same line\n",
        "            x=[length],  # Length of the bar segment\n",
        "            orientation='h',  # Horizontal bars\n",
        "            name=alt,  # Name for legend\n",
        "            offsetgroup=0,  # Stack the bars\n",
        "            base=start_point,  # Set the base of the bar where the last ended\n",
        "            marker_color=color_mapping[alt],  # Assign color based on lithology type\n",
        "            marker_line_width=0,  # Remove the border line\n",
        "            legendgroup=alt,  # Group all traces with the same lithology into one legend entry\n",
        "            showlegend=show_legend  # Show legend only for the first trace of each lithology type\n",
        "        ))\n",
        "        start_point += length  # Update the start_point for the next segment\n",
        "\n",
        "    # Update layout for stacked bar and styling\n",
        "    fig.update_layout(\n",
        "        xaxis_title=\"Depth (m)\",\n",
        "        yaxis=dict(showticklabels=False),  # Hide y-axis ticks and labels\n",
        "        barmode='stack',  # Stack bars on top of each other\n",
        "        showlegend=True,\n",
        "        height=300,  # Set plot height\n",
        "        legend_title=\"Alteration Type\"\n",
        "    )\n",
        "\n",
        "    # Show the plot\n",
        "    fig.show()"
      ]
    },
    {
      "cell_type": "code",
      "execution_count": null,
      "metadata": {},
      "outputs": [],
      "source": [
        "min_types = [\"Mineral1\", \"Mineral2\", \"Mineral3\"]\n",
        "plot_mineral_type(min_types)"
      ]
    }
  ],
  "metadata": {
    "colab": {
      "provenance": []
    },
    "kernelspec": {
      "display_name": "Python 3",
      "name": "python3"
    },
    "language_info": {
      "name": "python"
    }
  },
  "nbformat": 4,
  "nbformat_minor": 0
}
